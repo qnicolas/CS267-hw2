{
 "cells": [
  {
   "cell_type": "code",
   "execution_count": 19,
   "id": "f1610d44-33ca-4175-9e19-fb3bb845d948",
   "metadata": {},
   "outputs": [],
   "source": [
    "import numpy as np\n",
    "import matplotlib.pyplot as plt\n",
    "import matplotlib\n",
    "matplotlib.rcParams.update({'font.size':20})"
   ]
  },
  {
   "cell_type": "code",
   "execution_count": 20,
   "id": "48d99c25-def1-4efb-b8f1-8d6b635abc05",
   "metadata": {},
   "outputs": [],
   "source": [
    "## command: ./serial -n 100;./serial -n 300;./serial -n 1000;./serial -n 3000;./serial -n 10000;./serial -n 30000;./serial -n 100000;./serial -n 200000\n",
    "## output:\n",
    "outs = \"\"\"Simulation Time = 0.00620205 seconds for 100 particles.\n",
    "Simulation Time = 0.0201123 seconds for 300 particles.\n",
    "Simulation Time = 0.07357 seconds for 1000 particles.\n",
    "Simulation Time = 0.332525 seconds for 3000 particles.\n",
    "Simulation Time = 1.39459 seconds for 10000 particles.\n",
    "Simulation Time = 4.97021 seconds for 30000 particles.\n",
    "Simulation Time = 32.7598 seconds for 100000 particles.\n",
    "Simulation Time = 122.567 seconds for 200000 particles.\"\"\""
   ]
  },
  {
   "cell_type": "code",
   "execution_count": 21,
   "id": "c6c14fc3-0ea3-4f4f-bdf2-410ffb7a5ba4",
   "metadata": {},
   "outputs": [],
   "source": [
    "times    = np.array([float(line.split(' ')[3] ) for line in outs.split('\\n')])\n",
    "numparts = np.array([float(line.split(' ')[-2]) for line in outs.split('\\n')])"
   ]
  },
  {
   "cell_type": "code",
   "execution_count": 23,
   "id": "f0f3fb77-6a95-43c6-8f9c-f55335111cd0",
   "metadata": {},
   "outputs": [
    {
     "name": "stdout",
     "output_type": "stream",
     "text": [
      "Slope : 1.3013629984485524\n",
      "Slope (last 2 steps) : 1.6895060681676335\n"
     ]
    },
    {
     "data": {
      "image/png": "[encoded data removed]",
      "text/plain": [
       "<Figure size 432x288 with 1 Axes>"
      ]
     },
     "metadata": {
      "needs_background": "light"
     },
     "output_type": "display_data"
    }
   ],
   "source": [
    "plt.loglog(numparts,times,'-x')\n",
    "print(\"Slope :\",(np.log(times[-1])-np.log(times[0]))/(np.log(numparts[-1])-np.log(numparts[0])))\n",
    "print(\"Slope (last 2 steps) :\",(np.log(times[-1])-np.log(times[-3]))/(np.log(numparts[-1])-np.log(numparts[-3])))\n",
    "plt.xlabel('num particles')\n",
    "plt.ylabel('wall time');None"
   ]
  },
  {
   "cell_type": "code",
   "execution_count": 18,
   "id": "d43ff2af-5c79-4371-9580-2cc6c6617ec7",
   "metadata": {},
   "outputs": [
    {
     "data": {
      "text/plain": [
       "507.16582158755625"
      ]
     },
     "execution_count": 18,
     "metadata": {},
     "output_type": "execute_result"
    }
   ],
   "source": [
    "32*10**1.2"
   ]
  },
  {
   "cell_type": "code",
   "execution_count": null,
   "id": "21013fbf-e239-43ff-ab6f-399dfef5c4f6",
   "metadata": {},
   "outputs": [],
   "source": []
  }
 ],
 "metadata": {
  "kernelspec": {
   "display_name": "ERA5",
   "language": "python",
   "name": "era5"
  },
  "language_info": {
   "codemirror_mode": {
    "name": "ipython",
    "version": 3
   },
   "file_extension": ".py",
   "mimetype": "text/x-python",
   "name": "python",
   "nbconvert_exporter": "python",
   "pygments_lexer": "ipython3",
   "version": "3.7.9"
  }
 },
 "nbformat": 4,
 "nbformat_minor": 5
}
